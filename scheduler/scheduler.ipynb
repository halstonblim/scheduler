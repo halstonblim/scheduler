{
 "cells": [
  {
   "cell_type": "markdown",
   "id": "e9632800-6b9e-4781-835a-638c971e1481",
   "metadata": {},
   "source": [
    "# Global Entry Interivew Scheduler\n",
    "\n",
    "Scrapes the [TTP website](https://ttp.cbp.dhs.gov/schedulerui/schedule-interview/location?lang=en&vo=true&returnUrl=ttp-external&service=up) to determine if the desired location has any availability. Then sends a push notification to mobile device indicating whether there is availability or not. Uses Pushover because it has a one month free trial and only $5 for a permanent license (as of March 2025).\n",
    "\n",
    "## Setup\n",
    "\n",
    "0. On your machine, install `python<=3.10`, `selenium`, `webdriver-manager`, and `pushover`. Unfortunately, Pushover only works in `python<=3.10` due to dependence on `SafeConfigParser`\n",
    "1. On your mobile device, download the Pushover app on mobile device and create a Pushover account\n",
    "2. On the Pushover website, login and create a new application to generate an API token\n",
    "3. On your machine, modify `scheduler_config.ini` file with your user id and API token\n",
    "\n",
    "## Usage\n",
    "\n",
    "1.  After setup, modify `scheduler_config.ini` with the desired location number. Although the location number is not visible on the TTP website, you can find the location number by inspecting the web element of the location (e.g. Boise Enrollment Center is 120).\n",
    "\n",
    "## Example Config File\n",
    "\n",
    "The config file `scheduler_config.ini` should look something like\n",
    "```\n",
    "[pushover]\n",
    "user_key = <your Pushover user id>\n",
    "app_key = <your API token>\n",
    "[location]\n",
    "location=120\n",
    "```"
   ]
  },
  {
   "cell_type": "code",
   "execution_count": 7,
   "id": "89c757ae-46fe-47b4-947c-40a34fead5bc",
   "metadata": {
    "execution": {
     "iopub.execute_input": "2025-03-09T21:28:45.262871Z",
     "iopub.status.busy": "2025-03-09T21:28:45.261870Z",
     "iopub.status.idle": "2025-03-09T21:28:45.277161Z",
     "shell.execute_reply": "2025-03-09T21:28:45.275884Z",
     "shell.execute_reply.started": "2025-03-09T21:28:45.262871Z"
    }
   },
   "outputs": [],
   "source": [
    "from selenium import webdriver\n",
    "from selenium.webdriver.common.by import By\n",
    "from selenium.webdriver.chrome.service import Service\n",
    "from selenium.webdriver.support.ui import WebDriverWait\n",
    "from selenium.webdriver.support import expected_conditions as EC\n",
    "from webdriver_manager.chrome import ChromeDriverManager\n",
    "import time\n",
    "from datetime import datetime\n",
    "import pushover\n",
    "import configparser"
   ]
  },
  {
   "cell_type": "code",
   "execution_count": 8,
   "id": "be6517c2-6acf-4bf4-990a-be2460095b4c",
   "metadata": {
    "execution": {
     "iopub.execute_input": "2025-03-09T21:28:45.279161Z",
     "iopub.status.busy": "2025-03-09T21:28:45.278160Z",
     "iopub.status.idle": "2025-03-09T21:28:45.292950Z",
     "shell.execute_reply": "2025-03-09T21:28:45.291674Z",
     "shell.execute_reply.started": "2025-03-09T21:28:45.279161Z"
    }
   },
   "outputs": [],
   "source": [
    "def send_pushover_notification(configfile, message, title=\"Global Entry Appointment\", sound=\"pushover\"):\n",
    "    \"\"\"Sends a push notification to your iPhone using Pushover.\"\"\"\n",
    "    try:\n",
    "        client = pushover.PushoverClient(configfile=configfile)\n",
    "        client.send_message(message, title=title, sound=sound)\n",
    "        print(\"Pushover notification sent successfully!\")\n",
    "\n",
    "    except Exception as e:\n",
    "        print(f\"An error occurred: {e}\")"
   ]
  },
  {
   "cell_type": "code",
   "execution_count": 9,
   "id": "013c9670-3dcc-4b6a-8f5d-9a10e352f33c",
   "metadata": {
    "execution": {
     "iopub.execute_input": "2025-03-09T21:28:45.292950Z",
     "iopub.status.busy": "2025-03-09T21:28:45.292950Z",
     "iopub.status.idle": "2025-03-09T21:28:45.308562Z",
     "shell.execute_reply": "2025-03-09T21:28:45.307489Z",
     "shell.execute_reply.started": "2025-03-09T21:28:45.292950Z"
    }
   },
   "outputs": [],
   "source": [
    "configfile='scheduler_config.ini'\n",
    "webpage = \"https://ttp.cbp.dhs.gov/schedulerui/schedule-interview/location?lang=en&vo=true&returnUrl=ttp-external&service=up\"\n",
    "accessed = datetime.now().strftime(\"%Y-%m-%dT%H:%M:%S\")\n",
    "\n",
    "config = configparser.ConfigParser()\n",
    "config.read(configfile)\n",
    "location = int(config.get('location','location'))"
   ]
  },
  {
   "cell_type": "code",
   "execution_count": 10,
   "id": "01a57971-878c-4004-ab80-029cc1408a2f",
   "metadata": {
    "execution": {
     "iopub.execute_input": "2025-03-09T21:28:45.309568Z",
     "iopub.status.busy": "2025-03-09T21:28:45.308562Z",
     "iopub.status.idle": "2025-03-09T21:28:51.347309Z",
     "shell.execute_reply": "2025-03-09T21:28:51.346307Z",
     "shell.execute_reply.started": "2025-03-09T21:28:45.309568Z"
    }
   },
   "outputs": [],
   "source": [
    "service = Service(ChromeDriverManager().install())\n",
    "driver = webdriver.Chrome(service=service)\n",
    "driver.get(webpage)\n",
    "wait = WebDriverWait(driver, 5)\n",
    "chicago_link = wait.until(EC.element_to_be_clickable((By.XPATH, f\"//*[@id='centerDetailsUS{location}']/strong/span\")))\n",
    "chicago_link.click()\n",
    "time.sleep(2)\n",
    "popup = wait.until(EC.presence_of_element_located((By.XPATH, f\"//*[@id='popoverUS{location}']/div/div/div/strong\")))\n",
    "popup_text = popup.find_element(By.XPATH, f\"ancestor::div[@id='popoverUS{location}']\").text\n",
    "location_name = popup_text.split('\\n')[0]\n",
    "availability = \" \".join(popup_text.replace('\\n',' ').split('Google Map')[-1].strip().split(' ')[:6])\n",
    "status = \"No Appointments\" if \"full\" in availability else \"Appointments Available!\""
   ]
  },
  {
   "cell_type": "code",
   "execution_count": 13,
   "id": "ecf5bb27-ddfa-4494-80bb-d2951026c247",
   "metadata": {
    "execution": {
     "iopub.execute_input": "2025-03-09T21:47:25.974746Z",
     "iopub.status.busy": "2025-03-09T21:47:25.974746Z",
     "iopub.status.idle": "2025-03-09T21:47:25.988981Z",
     "shell.execute_reply": "2025-03-09T21:47:25.987979Z",
     "shell.execute_reply.started": "2025-03-09T21:47:25.974746Z"
    }
   },
   "outputs": [],
   "source": [
    "output = f\"\"\"{status}\\n{availability}\\nAccessed: {accessed}\\nLocation: {location_name}\\n{webpage}\"\"\""
   ]
  },
  {
   "cell_type": "code",
   "execution_count": 14,
   "id": "43f39aac-6216-4571-bffd-d409d64f4f44",
   "metadata": {
    "execution": {
     "iopub.execute_input": "2025-03-09T21:47:26.780822Z",
     "iopub.status.busy": "2025-03-09T21:47:26.780822Z",
     "iopub.status.idle": "2025-03-09T21:47:26.796303Z",
     "shell.execute_reply": "2025-03-09T21:47:26.795303Z",
     "shell.execute_reply.started": "2025-03-09T21:47:26.780822Z"
    }
   },
   "outputs": [
    {
     "name": "stdout",
     "output_type": "stream",
     "text": [
      "Appointments Available!\n",
      "Next Available Appointment: August 13, 2025\n",
      "Accessed: 2025-03-09T16:28:45\n",
      "Location: Boise Enrollment Center\n",
      "https://ttp.cbp.dhs.gov/schedulerui/schedule-interview/location?lang=en&vo=true&returnUrl=ttp-external&service=up\n"
     ]
    }
   ],
   "source": [
    "print(output)"
   ]
  },
  {
   "cell_type": "code",
   "execution_count": 8,
   "id": "ef83cad2-726d-4d94-9379-d2b161300866",
   "metadata": {
    "execution": {
     "iopub.execute_input": "2025-03-09T20:57:54.772483Z",
     "iopub.status.busy": "2025-03-09T20:57:54.771458Z",
     "iopub.status.idle": "2025-03-09T20:57:55.131229Z",
     "shell.execute_reply": "2025-03-09T20:57:55.130653Z",
     "shell.execute_reply.started": "2025-03-09T20:57:54.772483Z"
    }
   },
   "outputs": [
    {
     "name": "stdout",
     "output_type": "stream",
     "text": [
      "Pushover notification sent successfully!\n"
     ]
    }
   ],
   "source": [
    "send_pushover_notification(message=output,configfile=configfile)"
   ]
  }
 ],
 "metadata": {
  "kernelspec": {
   "display_name": "scheduler",
   "language": "python",
   "name": "scheduler"
  },
  "language_info": {
   "codemirror_mode": {
    "name": "ipython",
    "version": 3
   },
   "file_extension": ".py",
   "mimetype": "text/x-python",
   "name": "python",
   "nbconvert_exporter": "python",
   "pygments_lexer": "ipython3",
   "version": "3.10.16"
  }
 },
 "nbformat": 4,
 "nbformat_minor": 5
}
